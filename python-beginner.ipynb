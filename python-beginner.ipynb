{
  "nbformat": 4,
  "nbformat_minor": 0,
  "metadata": {
    "celltoolbar": "Slideshow",
    "kernelspec": {
      "display_name": "Python 3",
      "language": "python",
      "name": "python3"
    },
    "language_info": {
      "codemirror_mode": {
        "name": "ipython",
        "version": 3
      },
      "file_extension": ".py",
      "mimetype": "text/x-python",
      "name": "python",
      "nbconvert_exporter": "python",
      "pygments_lexer": "ipython3",
      "version": "3.6.7"
    },
    "rise": {
      "autolaunch": true
    },
    "toc": {
      "base_numbering": 1,
      "nav_menu": {},
      "number_sections": true,
      "sideBar": true,
      "skip_h1_title": false,
      "title_cell": "Table of Contents",
      "title_sidebar": "Contents",
      "toc_cell": false,
      "toc_position": {},
      "toc_section_display": true,
      "toc_window_display": false
    },
    "colab": {
      "name": "Getting started with Python",
      "provenance": [],
      "collapsed_sections": [
        "xl2sshrm1piR"
      ],
      "include_colab_link": true
    }
  },
  "cells": [
    {
      "cell_type": "markdown",
      "metadata": {
        "id": "view-in-github",
        "colab_type": "text"
      },
      "source": [
        "<a href=\"https://colab.research.google.com/github/arwalokhandwala/intro-to-python/blob/main/python-beginner.ipynb\" target=\"_parent\"><img src=\"https://colab.research.google.com/assets/colab-badge.svg\" alt=\"Open In Colab\"/></a>"
      ]
    },
    {
      "cell_type": "markdown",
      "metadata": {
        "id": "YQhUpO1t1pfj"
      },
      "source": [
        "# Functions\n",
        "\n",
        "#### _Doing things..._\n",
        "\n"
      ]
    },
    {
      "cell_type": "code",
      "metadata": {
        "id": "ciVXrlb-tkkU"
      },
      "source": [
        ""
      ],
      "execution_count": null,
      "outputs": []
    },
    {
      "cell_type": "markdown",
      "metadata": {
        "id": "pmKCs6SF1pfq"
      },
      "source": [
        "### A FUNCTION EXECUTES TASKS\n",
        "\n",
        "1. Many functions are already written in the Python standard library or in 3rd party libraries\n",
        "2. Executing functions is extremely common when writing code, so it’s important to understand how to do so\n",
        "3. When we executing a function we say we *CALL* the function\n"
      ]
    },
    {
      "cell_type": "code",
      "metadata": {
        "id": "P2tjH-HN1pfy"
      },
      "source": [
        "print('Hello World')"
      ],
      "execution_count": null,
      "outputs": []
    },
    {
      "cell_type": "markdown",
      "metadata": {
        "id": "NP9228h71pf_"
      },
      "source": [
        "### SOME FUNCTIONS RETURN VALUES\n",
        "\n",
        "1. Some function can **RETURN** a value\n",
        "2. This value is typically what we expected the function to compute\n",
        "\n",
        "Let's try the function `pow`, which can compute powers. For instance, 2 at the power of 2 should return 4"
      ]
    },
    {
      "cell_type": "markdown",
      "metadata": {
        "id": "I4zPPg9l1pgC"
      },
      "source": [
        "pow(2, 2)"
      ]
    },
    {
      "cell_type": "markdown",
      "metadata": {
        "id": "_fKWfi6K9Rba"
      },
      "source": [
        "### Other common in-built methods/functions are are\n",
        "\n",
        "\n",
        "*   **abs(number)** - returns absolute value of passed argument\n",
        "*   **len(argument)** - length of the argument\n",
        "*   **string.lower()** - Converts the string into lowercase\n",
        "\n",
        "\n",
        "\n"
      ]
    },
    {
      "cell_type": "markdown",
      "metadata": {
        "id": "KXhNTTGV1pgb"
      },
      "source": [
        "# DataTypes & Variables\n",
        "\n",
        "_The building blocks of programs_\n",
        "\n",
        "### 1. Variables & Simple Datatypes\n",
        "### 2. Collection Datatypes\n",
        "\n"
      ]
    },
    {
      "cell_type": "markdown",
      "metadata": {
        "id": "Q8FHUr1G1pgn"
      },
      "source": [
        "## Variables\n",
        "\n",
        "### Concept\n",
        "\n",
        " - Variables are like *memory*, they allow our program to remember some information for later use. \n",
        " - Variables in python are written in **snake_case**\n",
        "\n",
        "    "
      ]
    },
    {
      "cell_type": "markdown",
      "metadata": {
        "id": "fPMDRViK1pgt"
      },
      "source": [
        "### Examples of creating and using variables"
      ]
    },
    {
      "cell_type": "code",
      "metadata": {
        "id": "8n_DOzhw1pgu",
        "colab": {
          "base_uri": "https://localhost:8080/"
        },
        "outputId": "58c1d768-072f-4259-9dbe-9391db8ee907"
      },
      "source": [
        "# We assign the VALUE 'Hello World' to the variable message. The data type of message will be str (String)\n",
        "message = 'Hello World'  \n",
        "# We pass our variable message to the `print` function\n",
        "print(message) "
      ],
      "execution_count": null,
      "outputs": [
        {
          "output_type": "stream",
          "text": [
            "Hello Everyone!\n"
          ],
          "name": "stdout"
        }
      ]
    },
    {
      "cell_type": "code",
      "metadata": {
        "id": "_PkefWIL1pg7"
      },
      "source": [
        "# Some other examples\n",
        "\n",
        "pie = 3.1415 # defining a float\n",
        "python_is_easy = True # defining a boolean\n",
        "power = 3 # defining an int"
      ],
      "execution_count": null,
      "outputs": []
    },
    {
      "cell_type": "markdown",
      "metadata": {
        "id": "kZZ8Xe81AhdW"
      },
      "source": [
        "You can check the type of variable with **type(variable)** function"
      ]
    },
    {
      "cell_type": "code",
      "metadata": {
        "id": "BrQc44XjAqhg",
        "colab": {
          "base_uri": "https://localhost:8080/"
        },
        "outputId": "83bc3be5-03ad-4330-9811-9aaf21416614"
      },
      "source": [
        "type(message)"
      ],
      "execution_count": null,
      "outputs": [
        {
          "output_type": "execute_result",
          "data": {
            "text/plain": [
              "str"
            ]
          },
          "metadata": {
            "tags": []
          },
          "execution_count": 2
        }
      ]
    },
    {
      "cell_type": "markdown",
      "metadata": {
        "id": "fmiIvk28_9R_"
      },
      "source": [
        "\n",
        "#### You can also use Operators + Variables to combine data\n",
        "\n",
        "*   +,  -, *, / (add, subtract, multiply, divide)\n",
        "*   +=, -=, etc ( perform operation and save result)\n",
        "\n",
        "\n",
        "*   //, % (quotient, remainder (modulus))\n",
        "*  \\>, <, ==, !=, <=, >= (greater than, less than, equal, not equal, etc)\n"
      ]
    },
    {
      "cell_type": "code",
      "metadata": {
        "id": "zW7qNly3AChN",
        "colab": {
          "base_uri": "https://localhost:8080/"
        },
        "outputId": "e89bc975-a057-4869-b464-53422d6e7eaa"
      },
      "source": [
        "a=10\n",
        "a+=2\n",
        "print(a)"
      ],
      "execution_count": null,
      "outputs": [
        {
          "output_type": "stream",
          "text": [
            "12\n"
          ],
          "name": "stdout"
        }
      ]
    },
    {
      "cell_type": "markdown",
      "metadata": {
        "id": "OklYyAXL1pgk"
      },
      "source": [
        "### Simple Data Types\n",
        "\n",
        "\n",
        "\n",
        "*   Text\n",
        "*   Number\n",
        "*   Float\n",
        "*   Boolean\n",
        "\n",
        "\n",
        "\n",
        "\n"
      ]
    },
    {
      "cell_type": "code",
      "metadata": {
        "id": "3s7ddwGgJyvR"
      },
      "source": [
        ""
      ],
      "execution_count": null,
      "outputs": []
    },
    {
      "cell_type": "markdown",
      "metadata": {
        "id": "5NtqfQpJ1phB"
      },
      "source": [
        "### Simple Datatypes & Variables: Exercises\n",
        "\n",
        "1. Create two variables with numbers. Use the `pow` function to get a power of a integer.\n",
        "2. Create a variable with a boolean. Print it. What happens ?\n",
        "3. Print the type of all the variables created (Hint: type())"
      ]
    },
    {
      "cell_type": "code",
      "metadata": {
        "id": "IVofqIgZ1phD"
      },
      "source": [
        "## Exercise code goes here\n",
        "\n",
        "\n",
        "##"
      ],
      "execution_count": null,
      "outputs": []
    },
    {
      "cell_type": "markdown",
      "metadata": {
        "id": "1xJitDzE1phU"
      },
      "source": [
        "## Collections Datatypes\n",
        "\n",
        "Some datatypes allow to hold several values. They're incredible useful to _organize_ the information in your code.\n",
        "The most used are `list` and `dict`\n",
        "\n",
        "### List \n",
        "\n",
        "1. Syntax: written with **square brackets** around the items or elements. We use comma between each element\n",
        "\n",
        "**More about List: https://docs.python.org/3/tutorial/datastructures.html**\n"
      ]
    },
    {
      "cell_type": "code",
      "metadata": {
        "id": "CLI-7_Gv1phV",
        "colab": {
          "base_uri": "https://localhost:8080/"
        },
        "outputId": "38df5a64-a0f1-492d-f342-4b448b80abc8"
      },
      "source": [
        "[1, 2]"
      ],
      "execution_count": null,
      "outputs": [
        {
          "output_type": "execute_result",
          "data": {
            "text/plain": [
              "[1, 2]"
            ]
          },
          "metadata": {
            "tags": []
          },
          "execution_count": 6
        }
      ]
    },
    {
      "cell_type": "markdown",
      "metadata": {
        "id": "ebPDQHZ91pha"
      },
      "source": [
        "#### Each item in the list can be accessed by it's **index**. \n",
        "\n",
        "To access an element by index, we\n",
        "use square brackets (again). \n",
        "\n",
        "The **index** STARTS AT ZERO !!!\n",
        "\n",
        "Note: You can even access subset of list with **list[start_index:end_index:step_size]**\n"
      ]
    },
    {
      "cell_type": "code",
      "metadata": {
        "id": "aZQQUp9_1phc",
        "outputId": "06410723-e91d-4e65-de31-f19effd222b8"
      },
      "source": [
        "# defining a list with 3 integers\n",
        "three_numbers = [1, 2, 3]\n",
        "# getting the number at index 1 \n",
        "three_numbers[1]\n"
      ],
      "execution_count": null,
      "outputs": [
        {
          "output_type": "execute_result",
          "data": {
            "text/plain": [
              "2"
            ]
          },
          "metadata": {
            "tags": []
          },
          "execution_count": 2
        }
      ]
    },
    {
      "cell_type": "code",
      "metadata": {
        "colab": {
          "base_uri": "https://localhost:8080/"
        },
        "id": "OUR8E-VmMBLs",
        "outputId": "45062d3c-04c3-40bd-f89d-2acff32873e9"
      },
      "source": [
        "# Slicing\n",
        "numbers=[0,1,2,3,4,5,6,7,8,9,10]\n",
        "\n",
        "# Subset of list from index 0-4\n",
        "numbers[0:5]\n",
        "\n",
        "# start from index 0 till index 8\n",
        "numbers[:9]\n",
        "\n",
        "# get every alternate numbers using step_size\n",
        "numbers[::2]"
      ],
      "execution_count": 1,
      "outputs": [
        {
          "output_type": "execute_result",
          "data": {
            "text/plain": [
              "[0, 2, 4, 6, 8, 10]"
            ]
          },
          "metadata": {
            "tags": []
          },
          "execution_count": 1
        }
      ]
    },
    {
      "cell_type": "markdown",
      "metadata": {
        "id": "b8uzQeX91php"
      },
      "source": [
        "#### Adding Items\n",
        "\n",
        "we can add items to an existing list with the `.append` **method**\n",
        "\n",
        "NOTE: A **method** is a function that is applied on an existing object.\n"
      ]
    },
    {
      "cell_type": "code",
      "metadata": {
        "id": "hSzDvLGq1phr",
        "colab": {
          "base_uri": "https://localhost:8080/"
        },
        "outputId": "1542ebaa-7d97-4bf9-9abd-9b047ed91491"
      },
      "source": [
        "three_numbers = [1, 2, 3]\n",
        "three_numbers.append(4)\n",
        "print(three_numbers)"
      ],
      "execution_count": null,
      "outputs": [
        {
          "output_type": "stream",
          "text": [
            "[1, 2, 3, 4]\n"
          ],
          "name": "stdout"
        }
      ]
    },
    {
      "cell_type": "markdown",
      "metadata": {
        "id": "1XRZ4N9N1phw"
      },
      "source": [
        "#### Changing items\n",
        "\n",
        "changing items is made by assigning a value to an item of the list"
      ]
    },
    {
      "cell_type": "code",
      "metadata": {
        "id": "_rklxVgf1phx",
        "outputId": "08dacb95-b126-478e-9560-90dd6c1067d8"
      },
      "source": [
        "three_numbers[1] = 999\n",
        "print(three_numbers)"
      ],
      "execution_count": null,
      "outputs": [
        {
          "output_type": "stream",
          "text": [
            "[1, 999, 3, 4]\n"
          ],
          "name": "stdout"
        }
      ]
    },
    {
      "cell_type": "markdown",
      "metadata": {
        "id": "aYUMsGeLBKxy"
      },
      "source": [
        "#### Removing items\n",
        "we can remove item from an existing list with the `.remove` **method**\n",
        "\n",
        "NOTE: \n",
        "* `.remove` method removes the first occurence of value in the list\n",
        "* if the value is not present it throws an error\n",
        "\n",
        "\n"
      ]
    },
    {
      "cell_type": "code",
      "metadata": {
        "id": "qbJnCk9dBjeE",
        "colab": {
          "base_uri": "https://localhost:8080/"
        },
        "outputId": "11472cfe-5835-4c10-bcfe-f15f6bd5451c"
      },
      "source": [
        "three_numbers.remove(3)\n",
        "three_numbers"
      ],
      "execution_count": null,
      "outputs": [
        {
          "output_type": "execute_result",
          "data": {
            "text/plain": [
              "[1, 2, 4]"
            ]
          },
          "metadata": {
            "tags": []
          },
          "execution_count": 12
        }
      ]
    },
    {
      "cell_type": "markdown",
      "metadata": {
        "id": "zxYjWuPD1ph1"
      },
      "source": [
        "### Checking membership\n",
        "\n",
        "We can use the `in` keyword to check if a value is present in a list"
      ]
    },
    {
      "cell_type": "code",
      "metadata": {
        "id": "FVdvsWTg1ph2",
        "outputId": "97bb4224-1722-4507-cbc5-f3652e61923c"
      },
      "source": [
        "# is the number 1 present in a list with 1, 2 and 3\n",
        "1 in [1, 2, 3]"
      ],
      "execution_count": null,
      "outputs": [
        {
          "output_type": "execute_result",
          "data": {
            "text/plain": [
              "True"
            ]
          },
          "metadata": {
            "tags": []
          },
          "execution_count": 13
        }
      ]
    },
    {
      "cell_type": "code",
      "metadata": {
        "id": "tpfOLF7V1ph5",
        "outputId": "bc7546d5-914e-4859-cf9b-db4a8b91e581"
      },
      "source": [
        "# also works with variables\n",
        "a_new_list = [1, 2, 3, 4]\n",
        "number_to_check = 2\n",
        "# is the value of the variable `number_to_check` present in the variable a_new_list\n",
        "number_to_check in a_new_list"
      ],
      "execution_count": null,
      "outputs": [
        {
          "output_type": "execute_result",
          "data": {
            "text/plain": [
              "True"
            ]
          },
          "metadata": {
            "tags": []
          },
          "execution_count": 14
        }
      ]
    },
    {
      "cell_type": "markdown",
      "metadata": {
        "id": "6Q_kpGBU1ph-"
      },
      "source": [
        "### List Datatypes - Exercises\n",
        "\n",
        "- Create a list of strings, with at least 3 elements\n",
        "- The list should include your name\n",
        "- Append 1 new elements in that list\n",
        "- print your name\n",
        "- Change your name to another value"
      ]
    },
    {
      "cell_type": "code",
      "metadata": {
        "id": "6C3Jlssv1ph_"
      },
      "source": [
        "## Exercise Code Goes Here\n",
        "\n",
        "\n",
        "##"
      ],
      "execution_count": null,
      "outputs": []
    },
    {
      "cell_type": "markdown",
      "metadata": {
        "id": "b1v9HcLMI6kZ"
      },
      "source": [
        "### Solutions\n",
        "\n"
      ]
    },
    {
      "cell_type": "code",
      "metadata": {
        "id": "fBG26y0vVi5D"
      },
      "source": [
        ""
      ],
      "execution_count": null,
      "outputs": []
    },
    {
      "cell_type": "markdown",
      "metadata": {
        "id": "fnm1e-Ym1piG"
      },
      "source": [
        "### Tuples\n",
        "\n",
        "* Tuples are very similar to `lists`, except that they *can not be modified after they have been created*\n",
        "\n",
        "* **NO** append() or remove()\n",
        "\n",
        "* Slicing works the same way `tuple[start:end:step_size]`\n",
        "\n",
        "* Tuples are commonly used as the *return types of functions*\n",
        "\n",
        "**More about Tuples: https://docs.python.org/3/tutorial/datastructures.html#tuples-and-sequences**"
      ]
    },
    {
      "cell_type": "code",
      "metadata": {
        "id": "w4UyAVMm1piH",
        "colab": {
          "base_uri": "https://localhost:8080/",
          "height": 182
        },
        "outputId": "7ce56899-2247-49e4-d297-0a560bc932f2"
      },
      "source": [
        "three_numbers_tuple = (1, 2, 3)\n",
        "three_numbers_tuple[1] = 1"
      ],
      "execution_count": null,
      "outputs": [
        {
          "output_type": "error",
          "ename": "TypeError",
          "evalue": "ignored",
          "traceback": [
            "\u001b[0;31m---------------------------------------------------------------------------\u001b[0m",
            "\u001b[0;31mTypeError\u001b[0m                                 Traceback (most recent call last)",
            "\u001b[0;32m<ipython-input-23-96cff86ad77e>\u001b[0m in \u001b[0;36m<module>\u001b[0;34m()\u001b[0m\n\u001b[1;32m      1\u001b[0m \u001b[0mthree_numbers_tuple\u001b[0m \u001b[0;34m=\u001b[0m \u001b[0;34m(\u001b[0m\u001b[0;36m1\u001b[0m\u001b[0;34m,\u001b[0m \u001b[0;36m2\u001b[0m\u001b[0;34m,\u001b[0m \u001b[0;36m3\u001b[0m\u001b[0;34m)\u001b[0m\u001b[0;34m\u001b[0m\u001b[0;34m\u001b[0m\u001b[0m\n\u001b[0;32m----> 2\u001b[0;31m \u001b[0mthree_numbers_tuple\u001b[0m\u001b[0;34m[\u001b[0m\u001b[0;36m1\u001b[0m\u001b[0;34m]\u001b[0m \u001b[0;34m=\u001b[0m \u001b[0;36m1\u001b[0m\u001b[0;34m\u001b[0m\u001b[0;34m\u001b[0m\u001b[0m\n\u001b[0m",
            "\u001b[0;31mTypeError\u001b[0m: 'tuple' object does not support item assignment"
          ]
        }
      ]
    },
    {
      "cell_type": "markdown",
      "metadata": {
        "id": "iNz-Vq-D1piL"
      },
      "source": [
        "### Dictionaries [dict]\n",
        "\n",
        "Dictionaries are a very natural way to organize information. \n",
        "\n",
        "**More about dictionaries: https://docs.python.org/3/tutorial/datastructures.html#dictionaries**"
      ]
    },
    {
      "cell_type": "code",
      "metadata": {
        "id": "7IZcAgkW1piN"
      },
      "source": [
        "# a dictionnary describing a person\n",
        "person = {\"name\": \"bob\", \"city\": \"new york\"}"
      ],
      "execution_count": null,
      "outputs": []
    },
    {
      "cell_type": "markdown",
      "metadata": {
        "id": "xl2sshrm1piR"
      },
      "source": [
        "#### Accessing data from dictionnaries\n",
        "\n",
        "1. Each pair is called a \"Key Value\" pair\n",
        "2. For example, `\"name\"` is a Key, and `\"bob\"` is a Value\n",
        "3. Most of the time, the keys are string (it's not required, but think twice)\n",
        "4. Dictionnaries allow us to **GET** values by using one of the **KEYS**\n"
      ]
    },
    {
      "cell_type": "markdown",
      "metadata": {
        "id": "vJVd-nuL1piS"
      },
      "source": [
        "### Accessing Dictionary Values"
      ]
    },
    {
      "cell_type": "code",
      "metadata": {
        "id": "FiLIRC8G1piU",
        "outputId": "510d4cbc-82ab-49dd-bfd1-e07885e51f07"
      },
      "source": [
        "# getting the key 'meal' from the dict lunch\n",
        "person['name']"
      ],
      "execution_count": null,
      "outputs": [
        {
          "output_type": "execute_result",
          "data": {
            "text/plain": [
              "'bob'"
            ]
          },
          "metadata": {
            "tags": []
          },
          "execution_count": 8
        }
      ]
    },
    {
      "cell_type": "code",
      "metadata": {
        "id": "eQSBNAwr1piX",
        "outputId": "7b142120-3805-4eae-ad0c-e0d8e83ce754"
      },
      "source": [
        "# the key must exist\n",
        "person['dob']"
      ],
      "execution_count": null,
      "outputs": [
        {
          "output_type": "error",
          "ename": "NameError",
          "evalue": "name 'person' is not defined",
          "traceback": [
            "\u001b[0;31m---------------------------------------------------------------------------\u001b[0m",
            "\u001b[0;31mNameError\u001b[0m                                 Traceback (most recent call last)",
            "\u001b[0;32m<ipython-input-19-d591407babac>\u001b[0m in \u001b[0;36m<module>\u001b[0;34m\u001b[0m\n\u001b[1;32m      1\u001b[0m \u001b[0;31m# the key must exist\u001b[0m\u001b[0;34m\u001b[0m\u001b[0;34m\u001b[0m\u001b[0;34m\u001b[0m\u001b[0m\n\u001b[0;32m----> 2\u001b[0;31m \u001b[0mperson\u001b[0m\u001b[0;34m[\u001b[0m\u001b[0;34m'dob'\u001b[0m\u001b[0;34m]\u001b[0m\u001b[0;34m\u001b[0m\u001b[0;34m\u001b[0m\u001b[0m\n\u001b[0m",
            "\u001b[0;31mNameError\u001b[0m: name 'person' is not defined"
          ]
        }
      ]
    },
    {
      "cell_type": "markdown",
      "metadata": {
        "id": "THVcNgUz1pia"
      },
      "source": [
        "### Updating a value in a dictionnary\n",
        "\n",
        "We just **ASSIGN** a value to a **KEY** of the dictionnary"
      ]
    },
    {
      "cell_type": "code",
      "metadata": {
        "id": "oq03Hsnz1pia",
        "colab": {
          "base_uri": "https://localhost:8080/"
        },
        "outputId": "b199e8d7-256c-4b01-dafe-7d46bd2dbfff"
      },
      "source": [
        "print(\"Let's create a dict representing a person\")\n",
        "person = {'name': 'bob', 'city': 'new york'}\n",
        "print(person)\n",
        "\n",
        "print(\"Well, bob actually lives in Chicago, let's update our dict\")\n",
        "# we ASSIGN the VALUE chicago to the KEY `city` in the dictionnary `person`\n",
        "person['city'] = 'chicago'\n",
        "print(person)"
      ],
      "execution_count": null,
      "outputs": [
        {
          "output_type": "stream",
          "text": [
            "Let's create a dict representing a person\n",
            "{'name': 'bob', 'city': 'new york'}\n",
            "Well, bob actually lives in Chicago, let's update our dict\n",
            "{'name': 'bob', 'city': 'chicago'}\n"
          ],
          "name": "stdout"
        }
      ]
    },
    {
      "cell_type": "code",
      "metadata": {
        "id": "stCxTHXy1pie",
        "colab": {
          "base_uri": "https://localhost:8080/"
        },
        "outputId": "1847b94f-cc02-452d-90cc-6f6ccdeccdc4"
      },
      "source": [
        "city_value = person.pop('city')\n",
        "print(person, city_value)"
      ],
      "execution_count": null,
      "outputs": [
        {
          "output_type": "stream",
          "text": [
            "{'name': 'bob'} chicago\n"
          ],
          "name": "stdout"
        }
      ]
    },
    {
      "cell_type": "code",
      "metadata": {
        "id": "AoDqU2Ay1pii",
        "outputId": "5263ca81-2202-47a1-f5d7-5a2f200be966"
      },
      "source": [
        "person['town'] = city_value\n",
        "person"
      ],
      "execution_count": null,
      "outputs": [
        {
          "output_type": "execute_result",
          "data": {
            "text/plain": [
              "{'name': 'bob', 'town': 'chicago'}"
            ]
          },
          "metadata": {
            "tags": []
          },
          "execution_count": 17
        }
      ]
    },
    {
      "cell_type": "markdown",
      "metadata": {
        "id": "r1YuXhCy1pim"
      },
      "source": [
        "### Dict Datatypes - Exercises\n",
        "\n",
        "- Create a **person** `dict` with at least 3 key-value pairs representing **name**, **city**, **age**\n",
        "- print person's name\n",
        "- Change **name** key to some other value\n",
        "- remove **age** key"
      ]
    },
    {
      "cell_type": "code",
      "metadata": {
        "id": "cIV_-RnG1pin"
      },
      "source": [
        "## Exercise code goes here\n",
        "\n",
        "\n",
        "\n",
        "#\n"
      ],
      "execution_count": null,
      "outputs": []
    },
    {
      "cell_type": "markdown",
      "metadata": {
        "id": "zi56bGly1pjS"
      },
      "source": [
        "## Remember that we can infer the datatype of a variable by looking at the first character of the output value\n",
        "- `'` or `\"`: str / string\n",
        "- `[` (square bracket) means a list\n",
        "- `{` (curly bracket) means a dict\n",
        "- a number means a int or a float"
      ]
    },
    {
      "cell_type": "markdown",
      "metadata": {
        "id": "rOIx_7TKPp8p"
      },
      "source": [
        "# Control Structures"
      ]
    },
    {
      "cell_type": "markdown",
      "metadata": {
        "id": "OPoInwBM1pjT"
      },
      "source": [
        "# *If* statement\n",
        "\n",
        "* Used for Conditional Execution\n",
        "* We can control what code to execute depending on the conditions that we define.\n",
        "* Check conditions with boolean operators (i.e. <, >, ==)\n",
        "* Execute a single code block depending on result\n",
        "* If True: code runs\n",
        "\n",
        "\n",
        "\n",
        "Can be:\n",
        "* if alone\n",
        "* if/else\n",
        "* if/elif(s)/else\n",
        "\n",
        "Indentation controls end of if block\n",
        "\n",
        "Data controls which code runs"
      ]
    },
    {
      "cell_type": "markdown",
      "metadata": {
        "id": "brGLI1QW4OZ2"
      },
      "source": [
        "### A simple example"
      ]
    },
    {
      "cell_type": "code",
      "metadata": {
        "colab": {
          "base_uri": "https://localhost:8080/"
        },
        "id": "_AHAxslBRf6z",
        "outputId": "d24197d1-a206-4cd0-a8a7-438710b6751f"
      },
      "source": [
        "age_person = 24\n",
        "\n",
        "if age_person > 18:\n",
        "  print(\"You can drive\")\n",
        "else:\n",
        "  print(\"You can't drive\")"
      ],
      "execution_count": 4,
      "outputs": [
        {
          "output_type": "stream",
          "text": [
            "You can drive\n"
          ],
          "name": "stdout"
        }
      ]
    },
    {
      "cell_type": "markdown",
      "metadata": {
        "id": "Y1qW8BB81pjf"
      },
      "source": [
        "### Complete if / elif / else syntax"
      ]
    },
    {
      "cell_type": "code",
      "metadata": {
        "colab": {
          "base_uri": "https://localhost:8080/"
        },
        "id": "XwgwhhJ8R4_O",
        "outputId": "e6cf3509-593a-4099-c65c-6871db8e2aac"
      },
      "source": [
        "a=10\n",
        "b=100\n",
        "\n",
        "if a>b:\n",
        "  print(\"A is larger than B\")\n",
        "elif a==b:\n",
        "  print(\"A is equal to B\")\n",
        "else:\n",
        "  print(\"A is smaller than B\")"
      ],
      "execution_count": 5,
      "outputs": [
        {
          "output_type": "stream",
          "text": [
            "A is smaller than B\n"
          ],
          "name": "stdout"
        }
      ]
    },
    {
      "cell_type": "markdown",
      "metadata": {
        "id": "t0zeAvvn1pji"
      },
      "source": [
        "# Loops\n",
        "\n",
        "#### Performing actions on all elements of a collection\n",
        "\n",
        "1. Repeat operations\n",
        "2. Loop variable takes each value from list in turn\n",
        "3. Indentation controls end of loop\n",
        "4. Watch out for infinite loops!\n",
        "5. Interrupt or restart kernel when this happens\n",
        "6. There are two types of loops: the `for` loop and the `while` loop. The for loop is much more common, we'll focus on this one today"
      ]
    },
    {
      "cell_type": "markdown",
      "metadata": {
        "id": "fX0ckeFzSnaw"
      },
      "source": [
        "### for loop"
      ]
    },
    {
      "cell_type": "code",
      "metadata": {
        "id": "tiJ5AJsQ1pjj",
        "colab": {
          "base_uri": "https://localhost:8080/"
        },
        "outputId": "04fdef26-ad06-4b99-eacd-509aa973acff"
      },
      "source": [
        "# basic syntax\n",
        "for i in [7, 6, 5]:\n",
        "    print(i)"
      ],
      "execution_count": 6,
      "outputs": [
        {
          "output_type": "stream",
          "text": [
            "7\n",
            "6\n",
            "5\n"
          ],
          "name": "stdout"
        }
      ]
    },
    {
      "cell_type": "code",
      "metadata": {
        "colab": {
          "base_uri": "https://localhost:8080/"
        },
        "id": "QAZHim2oS1su",
        "outputId": "17da194b-d5c5-45b8-bdea-4f33b9d933ce"
      },
      "source": [
        "users = [\"Jeff\", \"Jay\",\"Theresa\"]\n",
        "\n",
        "for user in users:\n",
        "  print(f'Hello {user}')"
      ],
      "execution_count": 7,
      "outputs": [
        {
          "output_type": "stream",
          "text": [
            "Hello Jeff\n",
            "Hello Jay\n",
            "Hello Theresa\n"
          ],
          "name": "stdout"
        }
      ]
    },
    {
      "cell_type": "markdown",
      "metadata": {
        "id": "dwCUN9ZF1pjm"
      },
      "source": [
        "#### Breaking Loops"
      ]
    },
    {
      "cell_type": "code",
      "metadata": {
        "id": "ozCcVfRD1pjn",
        "colab": {
          "base_uri": "https://localhost:8080/"
        },
        "outputId": "9d08cfb9-4d0a-4063-977e-fecbb88b4a5d"
      },
      "source": [
        "# we can stop a loop based on a condition\n",
        "for i in [1, 2, 3]:\n",
        "    print(f'Current value in for loop - {i}')\n",
        "    if i is 2:\n",
        "        print(\"Found 2\")\n",
        "        break"
      ],
      "execution_count": 10,
      "outputs": [
        {
          "output_type": "stream",
          "text": [
            "Current value in for loop - 1\n",
            "Current value in for loop - 2\n",
            "Found 2\n"
          ],
          "name": "stdout"
        }
      ]
    },
    {
      "cell_type": "markdown",
      "metadata": {
        "id": "ZJyuw2ww1pkL"
      },
      "source": [
        "# Functions\n",
        "\n",
        "Defining our own functions allows us to reuse our code. \n",
        "\n",
        "It's an essential tool to write good code (and to not become crazy !)\n",
        "\n",
        "Here's the basic syntax:\n"
      ]
    },
    {
      "cell_type": "code",
      "metadata": {
        "id": "gEykEg_n1pkL",
        "colab": {
          "base_uri": "https://localhost:8080/"
        },
        "outputId": "7f1e0efe-e9bf-46eb-f8a1-90b6d7dc4b68"
      },
      "source": [
        "\n",
        "def add_two(a, b):  # a and b are called \"arguments\". They behave like variables in the function\n",
        "    return a+b    # the indented code gets executed each time the function is called\n",
        "    \n",
        "add_two(1, 2)"
      ],
      "execution_count": 11,
      "outputs": [
        {
          "output_type": "execute_result",
          "data": {
            "text/plain": [
              "3"
            ]
          },
          "metadata": {
            "tags": []
          },
          "execution_count": 11
        }
      ]
    },
    {
      "cell_type": "code",
      "metadata": {
        "id": "WFjd8ScE1pkN",
        "outputId": "b132f339-ce2d-4e1a-d89a-4aa078bccfa0"
      },
      "source": [
        "# We can also call the function with variables\n",
        "bob=1\n",
        "albert=2\n",
        "add_two(a=bob, b=albert)"
      ],
      "execution_count": null,
      "outputs": [
        {
          "output_type": "stream",
          "text": [
            "3\n"
          ],
          "name": "stdout"
        }
      ]
    },
    {
      "cell_type": "markdown",
      "metadata": {
        "id": "dH00N12r1pkR"
      },
      "source": [
        "A function typically **RETURNS** a value. \n",
        "\n",
        "To use the return value, we can assign it to a variable\n",
        "\n",
        "Note that the `return` keyword stops the execution of the function (ie: code written after return is typically not executed)"
      ]
    },
    {
      "cell_type": "code",
      "metadata": {
        "id": "4m8_825Q1pkS",
        "colab": {
          "base_uri": "https://localhost:8080/"
        },
        "outputId": "bfaff10c-c0fe-45fa-fe35-dd06688760ea"
      },
      "source": [
        "def add_two_v2(a, b): \n",
        "    return a + b      # returns a value to the caller of the function\n",
        "    print('nooo')     # nothing gets executed after return\n",
        "    \n",
        "\n",
        "number = add_two_v2(3, 4)\n",
        "print('the result is:', number )"
      ],
      "execution_count": 12,
      "outputs": [
        {
          "output_type": "stream",
          "text": [
            "the result is: 7\n"
          ],
          "name": "stdout"
        }
      ]
    },
    {
      "cell_type": "markdown",
      "metadata": {
        "id": "FwQ86JFH1piv"
      },
      "source": [
        "# Packages\n",
        "\n",
        "With **`import`** we can import python packages and reuse code created by others"
      ]
    },
    {
      "cell_type": "code",
      "metadata": {
        "colab": {
          "base_uri": "https://localhost:8080/"
        },
        "id": "ut-5qdAEUtQ9",
        "outputId": "4dba4169-6f06-4b05-afae-80e0a6dd9b5e"
      },
      "source": [
        "import math\n",
        "x=math.cos(2*math.pi)\n",
        "print(x)"
      ],
      "execution_count": 13,
      "outputs": [
        {
          "output_type": "stream",
          "text": [
            "1.0\n"
          ],
          "name": "stdout"
        }
      ]
    },
    {
      "cell_type": "code",
      "metadata": {
        "id": "QrkzW_Fp1piw",
        "colab": {
          "base_uri": "https://localhost:8080/"
        },
        "outputId": "a57a508d-21c2-4e0c-8410-92c0e640fb70"
      },
      "source": [
        "# let's use the standard library `datetime` module to print today's date\n",
        "import datetime\n",
        "print(datetime.datetime.today())\n"
      ],
      "execution_count": null,
      "outputs": [
        {
          "output_type": "stream",
          "text": [
            "2021-01-28 20:43:39.681437\n"
          ],
          "name": "stdout"
        }
      ]
    },
    {
      "cell_type": "code",
      "metadata": {
        "id": "DFJmKeRY1piz",
        "colab": {
          "base_uri": "https://localhost:8080/"
        },
        "outputId": "e2c619be-ceda-4278-aee0-a5a27ead81c3"
      },
      "source": [
        "# if an import fails, we have to install the package with pip\n",
        "# in the notebook, we have to run pip with a leading !\n",
        "!pip install requests\n",
        "# then you can import that package without errors\n",
        "import requests"
      ],
      "execution_count": 15,
      "outputs": [
        {
          "output_type": "stream",
          "text": [
            "Requirement already satisfied: requests in /usr/local/lib/python3.6/dist-packages (2.23.0)\n",
            "Requirement already satisfied: idna<3,>=2.5 in /usr/local/lib/python3.6/dist-packages (from requests) (2.10)\n",
            "Requirement already satisfied: urllib3!=1.25.0,!=1.25.1,<1.26,>=1.21.1 in /usr/local/lib/python3.6/dist-packages (from requests) (1.24.3)\n",
            "Requirement already satisfied: certifi>=2017.4.17 in /usr/local/lib/python3.6/dist-packages (from requests) (2020.12.5)\n",
            "Requirement already satisfied: chardet<4,>=3.0.2 in /usr/local/lib/python3.6/dist-packages (from requests) (3.0.4)\n"
          ],
          "name": "stdout"
        }
      ]
    }
  ]
}